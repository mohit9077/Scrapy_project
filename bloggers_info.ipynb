{
 "cells": [
  {
   "cell_type": "code",
   "execution_count": 2,
   "metadata": {},
   "outputs": [],
   "source": [
    "import requests\n",
    "from bs4 import BeautifulSoup, Comment\n",
    "import pandas as pd\n",
    "import re\n",
    "import matplotlib.pyplot as plt\n",
    "\n",
    "url='https://indianbloggers.org/'\n",
    "content = requests.get(url).text\n",
    "\n",
    "\n",
    "\n"
   ]
  },
  {
   "cell_type": "code",
   "execution_count": 4,
   "metadata": {},
   "outputs": [
    {
     "name": "stdout",
     "output_type": "stream",
     "text": [
      "                                                                             links\n",
      "title                                                                             \n",
      "Amit Agarwal                                                http://www.labnol.org/\n",
      "Jyotsna Kamat                                   http://www.kamat.com/jyotsna/blog/\n",
      "Amit Varma                                              http://www.indiauncut.com/\n",
      "Sidin Vadukut                                               http://www.whatay.com/\n",
      "Hawkeye                                            http://hawkeyeview.blogspot.in/\n",
      "...                                                                            ...\n",
      "Akshay Dhar                                       http://anansisweb.wordpress.com/\n",
      "Anuradha Goyal                                          http://www.anureviews.com/\n",
      "Add your Blog / YouTube Channel  https://docs.google.com/forms/d/1Zy0c9-CX9JkcR...\n",
      "Amit Agarwal                                                    https://ctrlq.org/\n",
      "Digital Inspiration                                         http://www.labnol.org/\n",
      "\n",
      "[363 rows x 1 columns]\n"
     ]
    }
   ],
   "source": [
    "#initalizing an empty dictionary that would be written as Pandas Dataframe and then CSV\n",
    "d = {'title':[],'links':[]}\n",
    "\n",
    "#initializing blog hosting category\n",
    "cat = {'blogspot':0,'wordpress':0,'others':0}\n",
    "\n",
    "\n",
    "soup = BeautifulSoup(content, \"html.parser\")\n",
    "\n",
    "\n",
    "for link in soup.find_all('a',):\n",
    "    if len(link.text.strip()) > 1 and bool(re.match('^http',link['href'])) and not bool(re.search('indianbloggers|twitter|facebook',link['href'])):\n",
    "        d['title'].append(link.text)\n",
    "        d['links'].append(link['href'])\n",
    "        #finding the blog hosting type\n",
    "        if re.search('blogspot',link['href']):\n",
    "            cat['blogspot']+=1\n",
    "        elif re.search('wordpress',link['href']):\n",
    "            cat['wordpress']+=1\n",
    "        else:\n",
    "            cat['others']+=1\n",
    "        #d['len'].append(len(link.text.strip()))\n",
    "    \n",
    "blog_list = pd.DataFrame(d).set_index('title')\n",
    "\n",
    "\n",
    "print(blog_list)\n"
   ]
  },
  {
   "cell_type": "code",
   "execution_count": 5,
   "metadata": {},
   "outputs": [
    {
     "name": "stdout",
     "output_type": "stream",
     "text": [
      "363 rows written\n",
      "{'blogspot': 106, 'wordpress': 49, 'others': 208}\n"
     ]
    },
    {
     "data": {
      "image/png": "[encoded data removed]",
      "text/plain": [
       "<Figure size 432x288 with 1 Axes>"
      ]
     },
     "metadata": {
      "needs_background": "light"
     },
     "output_type": "display_data"
    }
   ],
   "source": [
    "\n",
    "blog_list.to_csv('blog_list.csv', encoding='utf-8')\n",
    "\n",
    "print(str(len(blog_list.index))+' rows written')\n",
    "\n",
    "print(cat)\n",
    "\n",
    "#plotting the blog hosting type \n",
    "\n",
    "plt.bar(range(len(cat)), cat.values(), align='center')\n",
    "plt.xticks(range(len(cat)), cat.keys())\n",
    "\n",
    "plt.show()"
   ]
  },
  {
   "cell_type": "code",
   "execution_count": null,
   "metadata": {},
   "outputs": [],
   "source": []
  }
 ],
 "metadata": {
  "kernelspec": {
   "display_name": "Python 3",
   "language": "python",
   "name": "python3"
  },
  "language_info": {
   "codemirror_mode": {
    "name": "ipython",
    "version": 3
   },
   "file_extension": ".py",
   "mimetype": "text/x-python",
   "name": "python",
   "nbconvert_exporter": "python",
   "pygments_lexer": "ipython3",
   "version": "3.7.5"
  }
 },
 "nbformat": 4,
 "nbformat_minor": 4
}
